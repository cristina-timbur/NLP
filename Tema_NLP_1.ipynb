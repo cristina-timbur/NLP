{
 "cells": [
  {
   "cell_type": "code",
   "execution_count": 11,
   "id": "d8eb6e86",
   "metadata": {},
   "outputs": [
    {
     "name": "stderr",
     "output_type": "stream",
     "text": [
      "[nltk_data] Downloading package punkt to C:\\Users\\Timbur\n",
      "[nltk_data]     Dinu\\AppData\\Roaming\\nltk_data...\n",
      "[nltk_data]   Package punkt is already up-to-date!\n"
     ]
    },
    {
     "data": {
      "text/plain": [
       "True"
      ]
     },
     "execution_count": 11,
     "metadata": {},
     "output_type": "execute_result"
    }
   ],
   "source": [
    "import nltk\n",
    "nltk.download('punkt')"
   ]
  },
  {
   "cell_type": "code",
   "execution_count": 12,
   "id": "a88ab49c",
   "metadata": {},
   "outputs": [],
   "source": [
    "#Task 1. Reading the .txt file.\n",
    "text = open(r\"\\Users\\Timbur Dinu\\Desktop\\bio1\\TEST\\biology\\class_11_biology_chapter_1_0.txt\").read().lower().replace('\\n', ' ')"
   ]
  },
  {
   "cell_type": "code",
   "execution_count": 13,
   "id": "9109358b",
   "metadata": {},
   "outputs": [
    {
     "name": "stdout",
     "output_type": "stream",
     "text": [
      "There are 13 sentences extracted by sent_tokenize.\n",
      "There are 251 tokens extracted by word_tokenize.\n",
      "There are 253 tokens extracted by casual_tokenize.\n",
      "There are 250 tokens extracted by MWETokenizer.\n"
     ]
    }
   ],
   "source": [
    "#Task 2.1 Get the number of sentences extracted by sent_tokenize\n",
    "from nltk.tokenize import sent_tokenize\n",
    "\n",
    "sentences = sent_tokenize(text)\n",
    "nr_sentences = len(sentences)\n",
    "print('There are', nr_sentences,'sentences extracted by sent_tokenize.')\n",
    "\n",
    "#Task 2.2 Get the number of tokens extracted by word_tokenize\n",
    "from nltk.tokenize import word_tokenize\n",
    "\n",
    "word = word_tokenize(text)\n",
    "nr_word = len(word)\n",
    "print('There are', nr_word,'tokens extracted by word_tokenize.')\n",
    "\n",
    "#Task 2.3 Get the number of tokens extracted by casual_tokenize\n",
    "from nltk.tokenize import casual_tokenize\n",
    "\n",
    "casual = casual_tokenize(text)\n",
    "nr_casual = len(casual)\n",
    "print('There are', nr_casual,'tokens extracted by casual_tokenize.')\n",
    "\n",
    "#Task 2.4 Get the number of tokens extracted by casual_tokenize\n",
    "from nltk.tokenize import MWETokenizer\n",
    "\n",
    "mwe = MWETokenizer([('some', 'of'), ('led','to'), ('spin', 'off')])\n",
    "mwe = mwe.tokenize(casual_tokenize(text))\n",
    "nr_mwe = len(mwe)\n",
    "print('There are', nr_mwe,'tokens extracted by MWETokenizer.')"
   ]
  },
  {
   "cell_type": "code",
   "execution_count": 14,
   "id": "6cb30a59",
   "metadata": {},
   "outputs": [
    {
     "name": "stdout",
     "output_type": "stream",
     "text": [
      "19 words per sentence - sent_tokenize\n",
      "19 words per sentence - word_tokenize\n",
      "19 words per sentence - casual_tokenize\n",
      "19 words per sentence - MWETokenizer\n"
     ]
    }
   ],
   "source": [
    "#Task 2.5 Words per sentence -> sent_tokenize\n",
    "import math\n",
    "\n",
    "total_words = len(casual_tokenize(text))\n",
    "total_words\n",
    "words_per_sentence = math.trunc(total_words / nr_sentences)\n",
    "print(words_per_sentence,'words per sentence - sent_tokenize')\n",
    "\n",
    "#Words per sentence -> word_tokenize\n",
    "words_per_sentence = math.trunc(nr_word / nr_sentences)\n",
    "print(words_per_sentence,'words per sentence - word_tokenize')\n",
    "\n",
    "#Words per sentence -> casual_tokenize\n",
    "words_per_sentence = math.trunc(nr_casual / nr_sentences)\n",
    "print(words_per_sentence,'words per sentence - casual_tokenize')\n",
    "\n",
    "#Words per sentence -> MWETokenizer\n",
    "words_per_sentence = math.trunc(nr_mwe / nr_sentences)\n",
    "print(words_per_sentence,'words per sentence - MWETokenizer')"
   ]
  },
  {
   "cell_type": "code",
   "execution_count": 15,
   "id": "22e8892d",
   "metadata": {},
   "outputs": [
    {
     "data": {
      "text/html": [
       "<div>\n",
       "<style scoped>\n",
       "    .dataframe tbody tr th:only-of-type {\n",
       "        vertical-align: middle;\n",
       "    }\n",
       "\n",
       "    .dataframe tbody tr th {\n",
       "        vertical-align: top;\n",
       "    }\n",
       "\n",
       "    .dataframe thead th {\n",
       "        text-align: right;\n",
       "    }\n",
       "</style>\n",
       "<table border=\"1\" class=\"dataframe\">\n",
       "  <thead>\n",
       "    <tr style=\"text-align: right;\">\n",
       "      <th></th>\n",
       "      <th>Original_token</th>\n",
       "      <th>Porter</th>\n",
       "      <th>Lancaster</th>\n",
       "      <th>Snowball</th>\n",
       "    </tr>\n",
       "  </thead>\n",
       "  <tbody>\n",
       "    <tr>\n",
       "      <th>0</th>\n",
       "      <td>chapter</td>\n",
       "      <td>chapter</td>\n",
       "      <td>chapt</td>\n",
       "      <td>chapter</td>\n",
       "    </tr>\n",
       "    <tr>\n",
       "      <th>1</th>\n",
       "      <td>1</td>\n",
       "      <td>1</td>\n",
       "      <td>1</td>\n",
       "      <td>1</td>\n",
       "    </tr>\n",
       "    <tr>\n",
       "      <th>2</th>\n",
       "      <td>the</td>\n",
       "      <td>the</td>\n",
       "      <td>the</td>\n",
       "      <td>the</td>\n",
       "    </tr>\n",
       "    <tr>\n",
       "      <th>3</th>\n",
       "      <td>living</td>\n",
       "      <td>live</td>\n",
       "      <td>liv</td>\n",
       "      <td>live</td>\n",
       "    </tr>\n",
       "    <tr>\n",
       "      <th>4</th>\n",
       "      <td>world</td>\n",
       "      <td>world</td>\n",
       "      <td>world</td>\n",
       "      <td>world</td>\n",
       "    </tr>\n",
       "    <tr>\n",
       "      <th>...</th>\n",
       "      <td>...</td>\n",
       "      <td>...</td>\n",
       "      <td>...</td>\n",
       "      <td>...</td>\n",
       "    </tr>\n",
       "    <tr>\n",
       "      <th>749</th>\n",
       "      <td>™</td>\n",
       "      <td>™</td>\n",
       "      <td>™</td>\n",
       "      <td>™</td>\n",
       "    </tr>\n",
       "    <tr>\n",
       "      <th>750</th>\n",
       "      <td>s</td>\n",
       "      <td>s</td>\n",
       "      <td>s</td>\n",
       "      <td>s</td>\n",
       "    </tr>\n",
       "    <tr>\n",
       "      <th>751</th>\n",
       "      <td>perspective</td>\n",
       "      <td>perspect</td>\n",
       "      <td>perspect</td>\n",
       "      <td>perspect</td>\n",
       "    </tr>\n",
       "    <tr>\n",
       "      <th>752</th>\n",
       "      <td>.</td>\n",
       "      <td>.</td>\n",
       "      <td>.</td>\n",
       "      <td>.</td>\n",
       "    </tr>\n",
       "    <tr>\n",
       "      <th>753</th>\n",
       "      <td>2019-2020</td>\n",
       "      <td>2019-2020</td>\n",
       "      <td>2019-2020</td>\n",
       "      <td>2019-2020</td>\n",
       "    </tr>\n",
       "  </tbody>\n",
       "</table>\n",
       "<p>754 rows × 4 columns</p>\n",
       "</div>"
      ],
      "text/plain": [
       "    Original_token     Porter  Lancaster   Snowball\n",
       "0          chapter    chapter      chapt    chapter\n",
       "1                1          1          1          1\n",
       "2              the        the        the        the\n",
       "3           living       live        liv       live\n",
       "4            world      world      world      world\n",
       "..             ...        ...        ...        ...\n",
       "749              ™          ™          ™          ™\n",
       "750              s          s          s          s\n",
       "751    perspective   perspect   perspect   perspect\n",
       "752              .          .          .          .\n",
       "753      2019-2020  2019-2020  2019-2020  2019-2020\n",
       "\n",
       "[754 rows x 4 columns]"
      ]
     },
     "execution_count": 15,
     "metadata": {},
     "output_type": "execute_result"
    }
   ],
   "source": [
    "#Task 3. Comparing the Stemmers.\n",
    "import pandas\n",
    "from nltk.stem import PorterStemmer\n",
    "from nltk.stem import LancasterStemmer\n",
    "from nltk.stem import SnowballStemmer\n",
    "\n",
    "l_porter = []\n",
    "l_lancaster = []\n",
    "l_snowball = []\n",
    "lists = word.copy()\n",
    "lists.extend(casual)\n",
    "lists.extend(mwe)\n",
    "for w in lists:\n",
    "    p = PorterStemmer().stem(w)\n",
    "    l_porter.append(p)\n",
    "    p = LancasterStemmer().stem(w)\n",
    "    l_lancaster.append(p)\n",
    "    p = SnowballStemmer(language='english').stem(w)\n",
    "    l_snowball.append(p)\n",
    "d = {'Original_token': lists, \n",
    "      'Porter':l_porter, \n",
    "      'Lancaster':l_lancaster, \n",
    "      'Snowball':l_snowball}\n",
    "dataframe = pandas.DataFrame(data = d, index = None)\n",
    "dataframe\n",
    "\n",
    "#This dataframe points out that these 3 stemmers extract the root of the token differently. \n",
    "#For instance, the root of 'chapter' extracted with LancasterStemmer is 'chapt', but when extracted \n",
    "#with PorterStemmer or Snowball - it is 'chapter'. Hence, the accuracy of all stemmers isn't very big."
   ]
  },
  {
   "cell_type": "code",
   "execution_count": 16,
   "id": "cdd80ded",
   "metadata": {},
   "outputs": [
    {
     "name": "stdout",
     "output_type": "stream",
     "text": [
      "10 most frequent tokens are ['of', 'the', '.', 'and', 'living', ',', 'in', 'organisms', 'chapter', 'a']\n",
      "\n",
      "Hapaxes:\n",
      " ['1', '2', '3', 'plant', '4', 'animal', 'i', 'is', 'science', 'processes', 'comprises', 'an', 'amazing', 'easily', 'perceive', 'difference', 'between', 'deified', '(', 'wind', 'sea', 'fire', 'etc', ')', 'common', 'feature', 'animate', 'objects', 'sense', 'awe', 'or', 'fear', 'they', 'evoked', 'beings', 'began', 'much', 'later', 'history', 'societies', 'indulged', 'anthropocentric', 'view', 'register', 'limited', 'progress', 'knowledge', 'systematic', 'monumental', 'brought', 'out', 'necessity', 'detailed', 'systems', 'identification', 'nomenclature', 'biggest', 'spin', 'off', 'studies', 'recognition', 'sharing', 'similarities', 'both', 'horizontally', 'vertically', 'present', 'day', 'are', 'related', 'each', 'other', 'also', 'ever', 'lived', 'on', 'earth', 'revelation', 'humbled', 'led', 'cultural', 'movements', 'for', 'conservation', 'biodiversity', 'following', 'chapters', 'you', 'will', 'get', 'from', 'taxonomistвђ', '™', 's', 'perspective', '2019-2020']\n"
     ]
    }
   ],
   "source": [
    "#Task 4.1 Frequencies of words.\n",
    "from nltk.probability import FreqDist\n",
    "\n",
    "freq = FreqDist(casual_tokenize(text))\n",
    "freq_w = []\n",
    "for i in freq.most_common(10):\n",
    "        freq_w.append(i[0])\n",
    "print('10 most frequent tokens are', freq_w)\n",
    "print('\\nHapaxes:\\n', freq.hapaxes())"
   ]
  },
  {
   "cell_type": "code",
   "execution_count": 17,
   "id": "65dae971",
   "metadata": {},
   "outputs": [
    {
     "data": {
      "image/png": "[encoded data removed]",
      "text/plain": [
       "<Figure size 1440x720 with 1 Axes>"
      ]
     },
     "metadata": {
      "needs_background": "light"
     },
     "output_type": "display_data"
    },
    {
     "name": "stdout",
     "output_type": "stream",
     "text": [
      "\n",
      "\n",
      "This graphic is similar to the zipf law, since it emphasizes that most words have a small frequency, while a very few amount of them have high frequency. Therefore, as zipf law says, the rank-frequency distribution is an inverse relation.\n"
     ]
    }
   ],
   "source": [
    "#Task 4.2 Frequencies of words.\n",
    "import matplotlib\n",
    "import matplotlib.pyplot as plt\n",
    "plt.figure(figsize = (20, 10))\n",
    "plt.title('Frequency of Words')\n",
    "tokens = word_tokenize(text)\n",
    "fd = nltk.FreqDist(tokens)\n",
    "fd.plot(nr_word, cumulative = False)\n",
    "print('\\n\\nThis graphic is similar to the zipf law, since it emphasizes that most words have a small frequency, while a very few amount of them have high frequency. Therefore, as zipf law says, the rank-frequency distribution is an inverse relation.')"
   ]
  },
  {
   "cell_type": "code",
   "execution_count": 18,
   "id": "9cf5608b",
   "metadata": {},
   "outputs": [
    {
     "name": "stdout",
     "output_type": "stream",
     "text": [
      "{ NOUN  :  ['chapter', 'living', 'world', 'chapter', 'classification', 'chapter', 'plant', 'kingdom', 'chapter', 'kingdom', 'unit', 'diversity', 'living', 'world', 'biology', 'science', 'life', 'forms', 'living', 'processes', 'living', 'world', 'diversity', 'living', 'organisms', 'man', 'difference', 'matter', 'organisms', 'man', 'matter', 'wind', 'sea', 'fire', 'etc', 'animals', 'plants', 'feature', 'forms', 'inanimate', 'objects', 'sense', 'awe', 'fear', 'description', 'living', 'organisms', 'beings', 'history', 'societies', 'view', 'biology', 'progress', 'knowledge', 'description', 'life', 'forms', 'necessity', 'systems', 'identification', 'nomenclature', 'classification', 'spin', 'studies', 'recognition', 'sharing', 'similarities', 'living', 'organisms', 'day', 'living', 'organisms', 'organisms', 'earth', 'revelation', 'man', 'movements', 'conservation', 'biodiversity', 'chapters', 'unit', 'description', 'classification', 'animals', 'plants', 'taxonomistвђ', '™', 's', 'perspective']\n",
      "NUM  :  ['1', '2', '3', '4']\n",
      "DET  :  ['the', 'the', 'the', 'the', 'an', 'the', 'some', 'the', 'some', 'the', 'a', 'all', 'the', 'the', 'which', 'the', 'the', 'the', 'both', 'all', 'each', 'all', 'this', 'a', 'which', 'the', 'this', 'a', 'a']\n",
      "ADJ  :  ['biological', 'animal', 'i', 'amazing', 'early', 'inanimate', 'early', 'inanimate', 'common', 'such', 'animate', 'human', 'human', 'anthropocentric', 'limited', 'biological', 'systematic', 'monumental', 'detailed', 'biggest', 'such', 'present', 'other', 'cultural', 'following', '2019-2020']\n",
      "ADP  :  ['in', 'of', 'of', 'between', 'of', 'among', 'of', 'of', 'of', 'that', 'of', 'in', 'in', 'of', 'in', 'of', 'in', 'out', 'of', 'of', 'off', 'of', 'of', 'of', 'among', 'that', 'that', 'on', 'for', 'of', 'in', 'of', 'of', 'from']\n",
      "VERB  :  ['is', 'comprises', 'could', 'perceive', 'living', 'deified', 'was', 'evoked', 'including', 'began', 'indulged', 'could', 'register', 'brought', 'was', 'are', 'related', 'lived', 'was', 'humbled', 'led', 'will', 'get', 'including']\n",
      "CONJ  :  ['and', 'and', 'and', 'and', 'and', 'or', 'and', 'and', 'and', 'and', 'and', 'and']\n",
      ".  :  ['.', '.', '.', '(', ',', ',', '.', ')', '.', '.', '.', '.', ',', ',', ',', '.', '.', ',', '.', ',', ',', ',', '.']\n",
      "ADV  :  ['easily', 'much', 'later', 'horizontally', 'vertically', 'also', 'ever']\n",
      "PRON  :  ['they', 'you']\n",
      "PRT  :  ['to', 'to', 'to'] }\n",
      "\n",
      "\u001b[34mThe most frequent part of speech is NOUN\n",
      "The least frequent part of speech is PRON\n"
     ]
    },
    {
     "name": "stderr",
     "output_type": "stream",
     "text": [
      "[nltk_data] Downloading package universal_tagset to C:\\Users\\Timbur\n",
      "[nltk_data]     Dinu\\AppData\\Roaming\\nltk_data...\n",
      "[nltk_data]   Package universal_tagset is already up-to-date!\n"
     ]
    }
   ],
   "source": [
    "#Task 5. Part of speech tagging.\n",
    "from nltk import pos_tag\n",
    "import collections\n",
    "from colorama import Fore\n",
    "nltk.download('universal_tagset')\n",
    "\n",
    "nr_pos = -1\n",
    "dictz = {}\n",
    "pos_list = pos_tag(casual_tokenize(text), tagset = 'universal')\n",
    "for i in pos_list:\n",
    "    key = i[1]\n",
    "    word = i[0]\n",
    "    if key in dictz: \n",
    "        dictz[key].append(word)\n",
    "    else:\n",
    "        dictz[key] = []\n",
    "        nr_pos += 1\n",
    "        dictz[key].append(word)\n",
    "\n",
    "i = -1\n",
    "for key, value in dictz.items():\n",
    "    i += 1\n",
    "    if i == 0:\n",
    "        print('{', key, ' : ', value)\n",
    "    elif i == nr_pos:\n",
    "        print(key, ' : ', value, '}\\n')\n",
    "    else:\n",
    "        print(key, ' : ', value)\n",
    "\n",
    "pos_counts = collections.Counter((i[1] for i in pos_list))\n",
    "pos = pos_counts.most_common(11)\n",
    "print(Fore.BLUE + 'The most frequent part of speech is', pos[0][0])\n",
    "print('The least frequent part of speech is', pos[nr_pos][0])\n",
    "\n",
    "\n",
    "#The most common part of speech is the noun, inasmuch as a coherent sentence can not be formed without the use of nouns. \n",
    "#Moreover, nouns are the foremost elements of a sentence, such as subjects and objects.\n",
    "#The part of speech that has the smallest frequency is the pronoun."
   ]
  }
 ],
 "metadata": {
  "kernelspec": {
   "display_name": "Python 3",
   "language": "python",
   "name": "python3"
  },
  "language_info": {
   "codemirror_mode": {
    "name": "ipython",
    "version": 3
   },
   "file_extension": ".py",
   "mimetype": "text/x-python",
   "name": "python",
   "nbconvert_exporter": "python",
   "pygments_lexer": "ipython3",
   "version": "3.8.9"
  }
 },
 "nbformat": 4,
 "nbformat_minor": 5
}
